{
 "cells": [
  {
   "cell_type": "code",
   "execution_count": 1,
   "id": "5f73c4c2",
   "metadata": {},
   "outputs": [
    {
     "name": "stdout",
     "output_type": "stream",
     "text": [
      "Using matplotlib backend: <object object at 0x0000020A63924E70>\n"
     ]
    }
   ],
   "source": [
    "import pandas as pd\n",
    "import numpy as np\n",
    "import matplotlib.pyplot as plt\n",
    "import matplotlib\n",
    "import requests\n",
    "plt.rc(\"figure\", figsize=(10, 6))\n",
    "%matplotlib\n",
    "%matplotlib inline"
   ]
  },
  {
   "cell_type": "code",
   "execution_count": 2,
   "id": "212bbb64",
   "metadata": {},
   "outputs": [
    {
     "ename": "FileNotFoundError",
     "evalue": "[Errno 2] No such file or directory: 'examples/ex1.csv'",
     "output_type": "error",
     "traceback": [
      "\u001b[1;31m---------------------------------------------------------------------------\u001b[0m",
      "\u001b[1;31mFileNotFoundError\u001b[0m                         Traceback (most recent call last)",
      "Cell \u001b[1;32mIn[2], line 1\u001b[0m\n\u001b[1;32m----> 1\u001b[0m df \u001b[38;5;241m=\u001b[39m \u001b[43mpd\u001b[49m\u001b[38;5;241;43m.\u001b[39;49m\u001b[43mread_csv\u001b[49m\u001b[43m(\u001b[49m\u001b[38;5;124;43m\"\u001b[39;49m\u001b[38;5;124;43mexamples/ex1.csv\u001b[39;49m\u001b[38;5;124;43m\"\u001b[39;49m\u001b[43m)\u001b[49m\n",
      "File \u001b[1;32m~\\miniconda3\\envs\\pydata-book\\lib\\site-packages\\pandas\\io\\parsers\\readers.py:912\u001b[0m, in \u001b[0;36mread_csv\u001b[1;34m(filepath_or_buffer, sep, delimiter, header, names, index_col, usecols, dtype, engine, converters, true_values, false_values, skipinitialspace, skiprows, skipfooter, nrows, na_values, keep_default_na, na_filter, verbose, skip_blank_lines, parse_dates, infer_datetime_format, keep_date_col, date_parser, date_format, dayfirst, cache_dates, iterator, chunksize, compression, thousands, decimal, lineterminator, quotechar, quoting, doublequote, escapechar, comment, encoding, encoding_errors, dialect, on_bad_lines, delim_whitespace, low_memory, memory_map, float_precision, storage_options, dtype_backend)\u001b[0m\n\u001b[0;32m    899\u001b[0m kwds_defaults \u001b[38;5;241m=\u001b[39m _refine_defaults_read(\n\u001b[0;32m    900\u001b[0m     dialect,\n\u001b[0;32m    901\u001b[0m     delimiter,\n\u001b[1;32m   (...)\u001b[0m\n\u001b[0;32m    908\u001b[0m     dtype_backend\u001b[38;5;241m=\u001b[39mdtype_backend,\n\u001b[0;32m    909\u001b[0m )\n\u001b[0;32m    910\u001b[0m kwds\u001b[38;5;241m.\u001b[39mupdate(kwds_defaults)\n\u001b[1;32m--> 912\u001b[0m \u001b[38;5;28;01mreturn\u001b[39;00m \u001b[43m_read\u001b[49m\u001b[43m(\u001b[49m\u001b[43mfilepath_or_buffer\u001b[49m\u001b[43m,\u001b[49m\u001b[43m \u001b[49m\u001b[43mkwds\u001b[49m\u001b[43m)\u001b[49m\n",
      "File \u001b[1;32m~\\miniconda3\\envs\\pydata-book\\lib\\site-packages\\pandas\\io\\parsers\\readers.py:577\u001b[0m, in \u001b[0;36m_read\u001b[1;34m(filepath_or_buffer, kwds)\u001b[0m\n\u001b[0;32m    574\u001b[0m _validate_names(kwds\u001b[38;5;241m.\u001b[39mget(\u001b[38;5;124m\"\u001b[39m\u001b[38;5;124mnames\u001b[39m\u001b[38;5;124m\"\u001b[39m, \u001b[38;5;28;01mNone\u001b[39;00m))\n\u001b[0;32m    576\u001b[0m \u001b[38;5;66;03m# Create the parser.\u001b[39;00m\n\u001b[1;32m--> 577\u001b[0m parser \u001b[38;5;241m=\u001b[39m TextFileReader(filepath_or_buffer, \u001b[38;5;241m*\u001b[39m\u001b[38;5;241m*\u001b[39mkwds)\n\u001b[0;32m    579\u001b[0m \u001b[38;5;28;01mif\u001b[39;00m chunksize \u001b[38;5;129;01mor\u001b[39;00m iterator:\n\u001b[0;32m    580\u001b[0m     \u001b[38;5;28;01mreturn\u001b[39;00m parser\n",
      "File \u001b[1;32m~\\miniconda3\\envs\\pydata-book\\lib\\site-packages\\pandas\\io\\parsers\\readers.py:1407\u001b[0m, in \u001b[0;36mTextFileReader.__init__\u001b[1;34m(self, f, engine, **kwds)\u001b[0m\n\u001b[0;32m   1404\u001b[0m     \u001b[38;5;28mself\u001b[39m\u001b[38;5;241m.\u001b[39moptions[\u001b[38;5;124m\"\u001b[39m\u001b[38;5;124mhas_index_names\u001b[39m\u001b[38;5;124m\"\u001b[39m] \u001b[38;5;241m=\u001b[39m kwds[\u001b[38;5;124m\"\u001b[39m\u001b[38;5;124mhas_index_names\u001b[39m\u001b[38;5;124m\"\u001b[39m]\n\u001b[0;32m   1406\u001b[0m \u001b[38;5;28mself\u001b[39m\u001b[38;5;241m.\u001b[39mhandles: IOHandles \u001b[38;5;241m|\u001b[39m \u001b[38;5;28;01mNone\u001b[39;00m \u001b[38;5;241m=\u001b[39m \u001b[38;5;28;01mNone\u001b[39;00m\n\u001b[1;32m-> 1407\u001b[0m \u001b[38;5;28mself\u001b[39m\u001b[38;5;241m.\u001b[39m_engine \u001b[38;5;241m=\u001b[39m \u001b[38;5;28;43mself\u001b[39;49m\u001b[38;5;241;43m.\u001b[39;49m\u001b[43m_make_engine\u001b[49m\u001b[43m(\u001b[49m\u001b[43mf\u001b[49m\u001b[43m,\u001b[49m\u001b[43m \u001b[49m\u001b[38;5;28;43mself\u001b[39;49m\u001b[38;5;241;43m.\u001b[39;49m\u001b[43mengine\u001b[49m\u001b[43m)\u001b[49m\n",
      "File \u001b[1;32m~\\miniconda3\\envs\\pydata-book\\lib\\site-packages\\pandas\\io\\parsers\\readers.py:1661\u001b[0m, in \u001b[0;36mTextFileReader._make_engine\u001b[1;34m(self, f, engine)\u001b[0m\n\u001b[0;32m   1659\u001b[0m     \u001b[38;5;28;01mif\u001b[39;00m \u001b[38;5;124m\"\u001b[39m\u001b[38;5;124mb\u001b[39m\u001b[38;5;124m\"\u001b[39m \u001b[38;5;129;01mnot\u001b[39;00m \u001b[38;5;129;01min\u001b[39;00m mode:\n\u001b[0;32m   1660\u001b[0m         mode \u001b[38;5;241m+\u001b[39m\u001b[38;5;241m=\u001b[39m \u001b[38;5;124m\"\u001b[39m\u001b[38;5;124mb\u001b[39m\u001b[38;5;124m\"\u001b[39m\n\u001b[1;32m-> 1661\u001b[0m \u001b[38;5;28mself\u001b[39m\u001b[38;5;241m.\u001b[39mhandles \u001b[38;5;241m=\u001b[39m \u001b[43mget_handle\u001b[49m\u001b[43m(\u001b[49m\n\u001b[0;32m   1662\u001b[0m \u001b[43m    \u001b[49m\u001b[43mf\u001b[49m\u001b[43m,\u001b[49m\n\u001b[0;32m   1663\u001b[0m \u001b[43m    \u001b[49m\u001b[43mmode\u001b[49m\u001b[43m,\u001b[49m\n\u001b[0;32m   1664\u001b[0m \u001b[43m    \u001b[49m\u001b[43mencoding\u001b[49m\u001b[38;5;241;43m=\u001b[39;49m\u001b[38;5;28;43mself\u001b[39;49m\u001b[38;5;241;43m.\u001b[39;49m\u001b[43moptions\u001b[49m\u001b[38;5;241;43m.\u001b[39;49m\u001b[43mget\u001b[49m\u001b[43m(\u001b[49m\u001b[38;5;124;43m\"\u001b[39;49m\u001b[38;5;124;43mencoding\u001b[39;49m\u001b[38;5;124;43m\"\u001b[39;49m\u001b[43m,\u001b[49m\u001b[43m \u001b[49m\u001b[38;5;28;43;01mNone\u001b[39;49;00m\u001b[43m)\u001b[49m\u001b[43m,\u001b[49m\n\u001b[0;32m   1665\u001b[0m \u001b[43m    \u001b[49m\u001b[43mcompression\u001b[49m\u001b[38;5;241;43m=\u001b[39;49m\u001b[38;5;28;43mself\u001b[39;49m\u001b[38;5;241;43m.\u001b[39;49m\u001b[43moptions\u001b[49m\u001b[38;5;241;43m.\u001b[39;49m\u001b[43mget\u001b[49m\u001b[43m(\u001b[49m\u001b[38;5;124;43m\"\u001b[39;49m\u001b[38;5;124;43mcompression\u001b[39;49m\u001b[38;5;124;43m\"\u001b[39;49m\u001b[43m,\u001b[49m\u001b[43m \u001b[49m\u001b[38;5;28;43;01mNone\u001b[39;49;00m\u001b[43m)\u001b[49m\u001b[43m,\u001b[49m\n\u001b[0;32m   1666\u001b[0m \u001b[43m    \u001b[49m\u001b[43mmemory_map\u001b[49m\u001b[38;5;241;43m=\u001b[39;49m\u001b[38;5;28;43mself\u001b[39;49m\u001b[38;5;241;43m.\u001b[39;49m\u001b[43moptions\u001b[49m\u001b[38;5;241;43m.\u001b[39;49m\u001b[43mget\u001b[49m\u001b[43m(\u001b[49m\u001b[38;5;124;43m\"\u001b[39;49m\u001b[38;5;124;43mmemory_map\u001b[39;49m\u001b[38;5;124;43m\"\u001b[39;49m\u001b[43m,\u001b[49m\u001b[43m \u001b[49m\u001b[38;5;28;43;01mFalse\u001b[39;49;00m\u001b[43m)\u001b[49m\u001b[43m,\u001b[49m\n\u001b[0;32m   1667\u001b[0m \u001b[43m    \u001b[49m\u001b[43mis_text\u001b[49m\u001b[38;5;241;43m=\u001b[39;49m\u001b[43mis_text\u001b[49m\u001b[43m,\u001b[49m\n\u001b[0;32m   1668\u001b[0m \u001b[43m    \u001b[49m\u001b[43merrors\u001b[49m\u001b[38;5;241;43m=\u001b[39;49m\u001b[38;5;28;43mself\u001b[39;49m\u001b[38;5;241;43m.\u001b[39;49m\u001b[43moptions\u001b[49m\u001b[38;5;241;43m.\u001b[39;49m\u001b[43mget\u001b[49m\u001b[43m(\u001b[49m\u001b[38;5;124;43m\"\u001b[39;49m\u001b[38;5;124;43mencoding_errors\u001b[39;49m\u001b[38;5;124;43m\"\u001b[39;49m\u001b[43m,\u001b[49m\u001b[43m \u001b[49m\u001b[38;5;124;43m\"\u001b[39;49m\u001b[38;5;124;43mstrict\u001b[39;49m\u001b[38;5;124;43m\"\u001b[39;49m\u001b[43m)\u001b[49m\u001b[43m,\u001b[49m\n\u001b[0;32m   1669\u001b[0m \u001b[43m    \u001b[49m\u001b[43mstorage_options\u001b[49m\u001b[38;5;241;43m=\u001b[39;49m\u001b[38;5;28;43mself\u001b[39;49m\u001b[38;5;241;43m.\u001b[39;49m\u001b[43moptions\u001b[49m\u001b[38;5;241;43m.\u001b[39;49m\u001b[43mget\u001b[49m\u001b[43m(\u001b[49m\u001b[38;5;124;43m\"\u001b[39;49m\u001b[38;5;124;43mstorage_options\u001b[39;49m\u001b[38;5;124;43m\"\u001b[39;49m\u001b[43m,\u001b[49m\u001b[43m \u001b[49m\u001b[38;5;28;43;01mNone\u001b[39;49;00m\u001b[43m)\u001b[49m\u001b[43m,\u001b[49m\n\u001b[0;32m   1670\u001b[0m \u001b[43m\u001b[49m\u001b[43m)\u001b[49m\n\u001b[0;32m   1671\u001b[0m \u001b[38;5;28;01massert\u001b[39;00m \u001b[38;5;28mself\u001b[39m\u001b[38;5;241m.\u001b[39mhandles \u001b[38;5;129;01mis\u001b[39;00m \u001b[38;5;129;01mnot\u001b[39;00m \u001b[38;5;28;01mNone\u001b[39;00m\n\u001b[0;32m   1672\u001b[0m f \u001b[38;5;241m=\u001b[39m \u001b[38;5;28mself\u001b[39m\u001b[38;5;241m.\u001b[39mhandles\u001b[38;5;241m.\u001b[39mhandle\n",
      "File \u001b[1;32m~\\miniconda3\\envs\\pydata-book\\lib\\site-packages\\pandas\\io\\common.py:859\u001b[0m, in \u001b[0;36mget_handle\u001b[1;34m(path_or_buf, mode, encoding, compression, memory_map, is_text, errors, storage_options)\u001b[0m\n\u001b[0;32m    854\u001b[0m \u001b[38;5;28;01melif\u001b[39;00m \u001b[38;5;28misinstance\u001b[39m(handle, \u001b[38;5;28mstr\u001b[39m):\n\u001b[0;32m    855\u001b[0m     \u001b[38;5;66;03m# Check whether the filename is to be opened in binary mode.\u001b[39;00m\n\u001b[0;32m    856\u001b[0m     \u001b[38;5;66;03m# Binary mode does not support 'encoding' and 'newline'.\u001b[39;00m\n\u001b[0;32m    857\u001b[0m     \u001b[38;5;28;01mif\u001b[39;00m ioargs\u001b[38;5;241m.\u001b[39mencoding \u001b[38;5;129;01mand\u001b[39;00m \u001b[38;5;124m\"\u001b[39m\u001b[38;5;124mb\u001b[39m\u001b[38;5;124m\"\u001b[39m \u001b[38;5;129;01mnot\u001b[39;00m \u001b[38;5;129;01min\u001b[39;00m ioargs\u001b[38;5;241m.\u001b[39mmode:\n\u001b[0;32m    858\u001b[0m         \u001b[38;5;66;03m# Encoding\u001b[39;00m\n\u001b[1;32m--> 859\u001b[0m         handle \u001b[38;5;241m=\u001b[39m \u001b[38;5;28;43mopen\u001b[39;49m\u001b[43m(\u001b[49m\n\u001b[0;32m    860\u001b[0m \u001b[43m            \u001b[49m\u001b[43mhandle\u001b[49m\u001b[43m,\u001b[49m\n\u001b[0;32m    861\u001b[0m \u001b[43m            \u001b[49m\u001b[43mioargs\u001b[49m\u001b[38;5;241;43m.\u001b[39;49m\u001b[43mmode\u001b[49m\u001b[43m,\u001b[49m\n\u001b[0;32m    862\u001b[0m \u001b[43m            \u001b[49m\u001b[43mencoding\u001b[49m\u001b[38;5;241;43m=\u001b[39;49m\u001b[43mioargs\u001b[49m\u001b[38;5;241;43m.\u001b[39;49m\u001b[43mencoding\u001b[49m\u001b[43m,\u001b[49m\n\u001b[0;32m    863\u001b[0m \u001b[43m            \u001b[49m\u001b[43merrors\u001b[49m\u001b[38;5;241;43m=\u001b[39;49m\u001b[43merrors\u001b[49m\u001b[43m,\u001b[49m\n\u001b[0;32m    864\u001b[0m \u001b[43m            \u001b[49m\u001b[43mnewline\u001b[49m\u001b[38;5;241;43m=\u001b[39;49m\u001b[38;5;124;43m\"\u001b[39;49m\u001b[38;5;124;43m\"\u001b[39;49m\u001b[43m,\u001b[49m\n\u001b[0;32m    865\u001b[0m \u001b[43m        \u001b[49m\u001b[43m)\u001b[49m\n\u001b[0;32m    866\u001b[0m     \u001b[38;5;28;01melse\u001b[39;00m:\n\u001b[0;32m    867\u001b[0m         \u001b[38;5;66;03m# Binary mode\u001b[39;00m\n\u001b[0;32m    868\u001b[0m         handle \u001b[38;5;241m=\u001b[39m \u001b[38;5;28mopen\u001b[39m(handle, ioargs\u001b[38;5;241m.\u001b[39mmode)\n",
      "\u001b[1;31mFileNotFoundError\u001b[0m: [Errno 2] No such file or directory: 'examples/ex1.csv'"
     ]
    }
   ],
   "source": [
    "df = pd.read_csv(\"examples/ex1.csv\")"
   ]
  },
  {
   "cell_type": "code",
   "execution_count": null,
   "id": "581acb1a",
   "metadata": {
    "scrolled": false
   },
   "outputs": [],
   "source": [
    "df"
   ]
  },
  {
   "cell_type": "code",
   "execution_count": null,
   "id": "bf4e8c1a",
   "metadata": {},
   "outputs": [],
   "source": [
    "df2 = pd.read_csv(\"examples/ex5.csv\")\n",
    "df2"
   ]
  },
  {
   "cell_type": "code",
   "execution_count": null,
   "id": "c877867d",
   "metadata": {},
   "outputs": [],
   "source": [
    "df2 = pd.read_csv(\"examples/ex5.csv\", na_values=[\"1\"])\n",
    "df2"
   ]
  },
  {
   "cell_type": "code",
   "execution_count": null,
   "id": "e1f91d3a",
   "metadata": {},
   "outputs": [],
   "source": [
    "with pd.read_csv(\"examples/ex6.csv\", chunksize=5) as reader:\n",
    "    reader\n",
    "    for chunk in reader:\n",
    "        print(chunk)"
   ]
  },
  {
   "cell_type": "code",
   "execution_count": null,
   "id": "cf6c8c63",
   "metadata": {},
   "outputs": [],
   "source": []
  },
  {
   "cell_type": "code",
   "execution_count": null,
   "id": "572aa88b",
   "metadata": {},
   "outputs": [],
   "source": []
  },
  {
   "cell_type": "code",
   "execution_count": null,
   "id": "6404f9f9",
   "metadata": {},
   "outputs": [],
   "source": []
  },
  {
   "cell_type": "code",
   "execution_count": null,
   "id": "3bece381",
   "metadata": {},
   "outputs": [],
   "source": [
    "url = \"https://imdb-api.com/en/API/Top250Movies/k_qvgt5hrx\""
   ]
  },
  {
   "cell_type": "code",
   "execution_count": null,
   "id": "c6f36b8a",
   "metadata": {},
   "outputs": [],
   "source": [
    "resp = requests.get(url)\n",
    "resp.raise_for_status()\n",
    "resp"
   ]
  },
  {
   "cell_type": "code",
   "execution_count": null,
   "id": "e9a0bab2",
   "metadata": {},
   "outputs": [],
   "source": [
    "data = resp.json()"
   ]
  },
  {
   "cell_type": "code",
   "execution_count": null,
   "id": "60981a75",
   "metadata": {},
   "outputs": [],
   "source": [
    "topMovies = pd.DataFrame(data[\"items\"])"
   ]
  },
  {
   "cell_type": "code",
   "execution_count": null,
   "id": "d2bd053a",
   "metadata": {
    "scrolled": true
   },
   "outputs": [],
   "source": [
    "top5Movies = topMovies.loc[:4,[\"id\",\"rank\",\"title\",\"year\"]]\n",
    "top5Movies"
   ]
  },
  {
   "cell_type": "code",
   "execution_count": null,
   "id": "4f50d7d2",
   "metadata": {},
   "outputs": [],
   "source": [
    "topMovies.to_json(\"examples/imdb_top250movies.json\")"
   ]
  },
  {
   "cell_type": "code",
   "execution_count": null,
   "id": "a183058e",
   "metadata": {},
   "outputs": [],
   "source": [
    "topMovies"
   ]
  },
  {
   "cell_type": "code",
   "execution_count": null,
   "id": "7c3de557",
   "metadata": {},
   "outputs": [],
   "source": [
    "top5Movies.iloc[1:4,1] = np.nan\n",
    "top5Movies.iloc[1:2,2] = np.nan\n",
    "top5Movies"
   ]
  },
  {
   "cell_type": "code",
   "execution_count": null,
   "id": "da959133",
   "metadata": {},
   "outputs": [],
   "source": [
    "top5Movies.dropna()"
   ]
  },
  {
   "cell_type": "code",
   "execution_count": null,
   "id": "7a095d1f",
   "metadata": {},
   "outputs": [],
   "source": [
    "top5Movies.fillna({\"rank\":\"0\", \"title\": \"<Not Available>\"})\n"
   ]
  },
  {
   "cell_type": "code",
   "execution_count": null,
   "id": "479805bf",
   "metadata": {},
   "outputs": [],
   "source": [
    "top5Movies.isna()"
   ]
  },
  {
   "cell_type": "code",
   "execution_count": null,
   "id": "5a04c2b7",
   "metadata": {},
   "outputs": [],
   "source": [
    "top5Movies.replace({\"The Dark Knight\":\"Batman2\"})"
   ]
  },
  {
   "cell_type": "code",
   "execution_count": null,
   "id": "7b50ce7b",
   "metadata": {},
   "outputs": [],
   "source": [
    "def mapIndex(x):\n",
    "        return \"Platz: \" + str(int(x)+1) "
   ]
  },
  {
   "cell_type": "code",
   "execution_count": null,
   "id": "6f12a200",
   "metadata": {},
   "outputs": [],
   "source": [
    "top5Movies.rename(index=mapIndex, columns=str.title)"
   ]
  },
  {
   "cell_type": "code",
   "execution_count": null,
   "id": "a141ce4e",
   "metadata": {},
   "outputs": [],
   "source": [
    "crew = topMovies[\"crew\"].head()\n",
    "crew"
   ]
  },
  {
   "cell_type": "code",
   "execution_count": null,
   "id": "83dd886d",
   "metadata": {},
   "outputs": [],
   "source": [
    "crew_split = crew.str.split(pat=\",\")\n",
    "crew_split"
   ]
  },
  {
   "cell_type": "code",
   "execution_count": null,
   "id": "352b18fd",
   "metadata": {},
   "outputs": [],
   "source": [
    "top5MoviesIds = top5Movies[\"id\"]\n",
    "top5MoviesIds"
   ]
  },
  {
   "cell_type": "code",
   "execution_count": null,
   "id": "8a0ae9bc",
   "metadata": {},
   "outputs": [],
   "source": [
    "def getRatingsTable(ids):\n",
    "    ratings = []\n",
    "    baseUrl = \"https://imdb-api.com/en/API/Ratings/k_qvgt5hrx/\"\n",
    "    for idx, val in ids.items():\n",
    "        resp2 = requests.get(baseUrl+val)\n",
    "        ratings.append(resp2.json())\n",
    "    return ratings"
   ]
  },
  {
   "cell_type": "code",
   "execution_count": null,
   "id": "7c11b90f",
   "metadata": {},
   "outputs": [],
   "source": [
    "ratings = getRatingsTable(top5MoviesIds)\n",
    "ratings"
   ]
  },
  {
   "cell_type": "code",
   "execution_count": null,
   "id": "de5c1e23",
   "metadata": {},
   "outputs": [],
   "source": [
    "ratingsDf = pd.DataFrame(ratings).drop([\"errorMessage\"], axis=1)\n",
    "ratingsDf"
   ]
  },
  {
   "cell_type": "code",
   "execution_count": null,
   "id": "ec86f62c",
   "metadata": {},
   "outputs": [],
   "source": [
    "pd.merge(top5Movies, ratingsDf, left_on=\"id\", right_on=\"imDbId\")"
   ]
  },
  {
   "cell_type": "code",
   "execution_count": null,
   "id": "464d2346",
   "metadata": {},
   "outputs": [],
   "source": [
    "firstPart = topMovies.iloc[:5]\n",
    "firstPart"
   ]
  },
  {
   "cell_type": "code",
   "execution_count": null,
   "id": "9f79953b",
   "metadata": {},
   "outputs": [],
   "source": [
    "secondPart = topMovies.iloc[100:105]\n",
    "secondPart"
   ]
  },
  {
   "cell_type": "code",
   "execution_count": null,
   "id": "f2e5fdb9",
   "metadata": {},
   "outputs": [],
   "source": [
    "df1 = pd.DataFrame(np.arange(6).reshape(3, 2), index=[\"a\", \"b\", \"c\"],columns=[\"one\", \"two\"])\n",
    "df2 = pd.DataFrame(5 + np.arange(4).reshape(2, 2),index=[\"a\", \"c\"],columns=[\"three\", \"four\"])"
   ]
  },
  {
   "cell_type": "code",
   "execution_count": null,
   "id": "b4b9bb7f",
   "metadata": {},
   "outputs": [],
   "source": [
    "df1"
   ]
  },
  {
   "cell_type": "code",
   "execution_count": null,
   "id": "a92f0b45",
   "metadata": {},
   "outputs": [],
   "source": [
    "df2"
   ]
  },
  {
   "cell_type": "code",
   "execution_count": null,
   "id": "14f46652",
   "metadata": {},
   "outputs": [],
   "source": [
    "pd.concat([df1,df2], axis=\"columns\", join=\"inner\")"
   ]
  },
  {
   "cell_type": "code",
   "execution_count": null,
   "id": "0142ff07",
   "metadata": {},
   "outputs": [],
   "source": [
    "pd.DataFrame(crew_split.to_dict())"
   ]
  },
  {
   "cell_type": "code",
   "execution_count": null,
   "id": "8fd1cd05",
   "metadata": {},
   "outputs": [],
   "source": [
    "crew_hierarchical = pd.DataFrame(crew_split.to_dict()).unstack()\n",
    "crew_hierarchical"
   ]
  },
  {
   "cell_type": "code",
   "execution_count": null,
   "id": "136c2bdc",
   "metadata": {},
   "outputs": [],
   "source": [
    "crew_hierarchical[0]"
   ]
  },
  {
   "cell_type": "code",
   "execution_count": null,
   "id": "d8cd0239",
   "metadata": {},
   "outputs": [],
   "source": [
    "crew_hierarchical[:,0]"
   ]
  },
  {
   "cell_type": "code",
   "execution_count": null,
   "id": "ba27b3d7",
   "metadata": {},
   "outputs": [],
   "source": []
  },
  {
   "cell_type": "code",
   "execution_count": null,
   "id": "37bc22c9",
   "metadata": {},
   "outputs": [],
   "source": [
    "resp3 = requests.get(\"https://imdb-api.com/en/API/BoxOfficeAllTime/k_qvgt5hrx\")\n",
    "resp3.raise_for_status()\n",
    "boxOfficeDf = pd.DataFrame(resp3.json()[\"items\"])\n",
    "boxOfficeDf.groupby(\"year\")"
   ]
  },
  {
   "cell_type": "code",
   "execution_count": null,
   "id": "441ef81d",
   "metadata": {},
   "outputs": [],
   "source": [
    "boxOfficeDf.groupby(\"year\")[\"title\"].count()"
   ]
  },
  {
   "cell_type": "code",
   "execution_count": null,
   "id": "9b550c4a",
   "metadata": {},
   "outputs": [],
   "source": [
    "groupByDictionaryExample = pd.DataFrame(np.random.standard_normal((5, 5))*1000,\n",
    "        columns=[\"Deutschland\", \"Frankreich\", \"Japan\", \"China\", \"Vietnam\"],\n",
    "        index=[\"Film1\", \"Film2\", \"Film3\", \"Film4\", \"Film5\"])\n",
    "groupByDictionaryExample"
   ]
  },
  {
   "cell_type": "code",
   "execution_count": null,
   "id": "27a3f003",
   "metadata": {},
   "outputs": [],
   "source": []
  },
  {
   "cell_type": "code",
   "execution_count": null,
   "id": "1bd70449",
   "metadata": {},
   "outputs": [],
   "source": [
    "mapping = {\"Deutschland\": \"Europa\", \"Frankreich\":\"Europa\", \"Japan\": \"Asien\", \"China\":\"Asien\",\"Vietnam\":\"Asien\"}"
   ]
  },
  {
   "cell_type": "code",
   "execution_count": null,
   "id": "81117ac7",
   "metadata": {},
   "outputs": [],
   "source": [
    "groupByDictionaryExample.groupby(mapping, axis=1).sum()"
   ]
  },
  {
   "cell_type": "code",
   "execution_count": null,
   "id": "565b37fa",
   "metadata": {},
   "outputs": [],
   "source": [
    "groupByDictionaryExample.groupby(mapping, axis=1).quantile(q=1)"
   ]
  },
  {
   "cell_type": "code",
   "execution_count": null,
   "id": "8304d645",
   "metadata": {},
   "outputs": [],
   "source": [
    "def dollarStringToNumber(value):\n",
    "    return (value.str.replace(\"[$,.]\",\"\", regex = True))"
   ]
  },
  {
   "cell_type": "code",
   "execution_count": null,
   "id": "42b3738f",
   "metadata": {},
   "outputs": [],
   "source": [
    "boxOfficeDf.groupby(\"year\")[\"worldwideLifetimeGross\"].count()"
   ]
  },
  {
   "cell_type": "code",
   "execution_count": null,
   "id": "c2d21c3a",
   "metadata": {},
   "outputs": [],
   "source": []
  },
  {
   "cell_type": "code",
   "execution_count": null,
   "id": "7707fb03",
   "metadata": {},
   "outputs": [],
   "source": [
    "boxOfficeDf[\"worldwideLifetimeGross\"] = boxOfficeDf[\"worldwideLifetimeGross\"].str.replace(\"[$,.]\",\"\", regex = True).astype(float)"
   ]
  },
  {
   "cell_type": "code",
   "execution_count": null,
   "id": "461b2224",
   "metadata": {},
   "outputs": [],
   "source": [
    "boxOfficeDf.groupby(\"year\")[\"worldwideLifetimeGross\"].sum()"
   ]
  },
  {
   "cell_type": "code",
   "execution_count": null,
   "id": "caea7003",
   "metadata": {},
   "outputs": [],
   "source": [
    "boxOfficeDf"
   ]
  },
  {
   "cell_type": "code",
   "execution_count": null,
   "id": "11555a9e",
   "metadata": {},
   "outputs": [],
   "source": [
    "def get_stats(group):\n",
    "    return pd.Series(\n",
    "        {\"min\": group.min(), \"max\": group.max(),\n",
    "        \"count\": group.count(), \"mean\": group.mean()}\n",
    ")"
   ]
  },
  {
   "cell_type": "code",
   "execution_count": null,
   "id": "0a79c038",
   "metadata": {},
   "outputs": [],
   "source": [
    "boxOfficeDf.groupby(\"year\")[\"worldwideLifetimeGross\"].apply(get_stats).unstack()"
   ]
  },
  {
   "cell_type": "code",
   "execution_count": null,
   "id": "e5f618b4",
   "metadata": {},
   "outputs": [],
   "source": [
    "data = boxOfficeDf.pivot_table(aggfunc=[\"count\", \"mean\", \"sum\"],index=[\"year\"],values=[\"worldwideLifetimeGross\"])"
   ]
  },
  {
   "cell_type": "code",
   "execution_count": null,
   "id": "2df585f8",
   "metadata": {},
   "outputs": [],
   "source": [
    "fig, ax = plt.subplots(3, sharex=True)"
   ]
  },
  {
   "cell_type": "code",
   "execution_count": null,
   "id": "c5ac8f88",
   "metadata": {},
   "outputs": [],
   "source": [
    "col =  [\"Anzahl Filme\",\"Durchschnitteinnahmen pro Film\",\"Gesamteinnahmen weltweit\"]\n",
    "data.columns = col\n",
    "color = [\"blue\",\"orange\",\"green\"]\n",
    "for idx, label in enumerate(col):\n",
    "    if(idx != 0):\n",
    "        ax[idx].set_ylabel(\"In Euro\")\n",
    "    ax[idx].plot(data[label], color = color[idx])\n",
    "    ax[idx].set_title(label)\n",
    "\n",
    "ax[-1].set_xticks(ax[-1].get_xticks(), ax[-1].get_xticklabels(), rotation=60, ha='right')\n",
    "ax[-1].set_xlabel(\"Jahr\")\n"
   ]
  },
  {
   "cell_type": "code",
   "execution_count": null,
   "id": "a7159cf5",
   "metadata": {},
   "outputs": [],
   "source": [
    "fig.subplots_adjust(wspace=0, hspace=0.5)\n",
    "fig"
   ]
  },
  {
   "cell_type": "code",
   "execution_count": null,
   "id": "b12d9c3e",
   "metadata": {},
   "outputs": [],
   "source": [
    "data.plot(subplots=True)"
   ]
  },
  {
   "cell_type": "code",
   "execution_count": null,
   "id": "146c65fa",
   "metadata": {},
   "outputs": [],
   "source": []
  },
  {
   "cell_type": "code",
   "execution_count": null,
   "id": "10dc609a",
   "metadata": {},
   "outputs": [],
   "source": []
  },
  {
   "cell_type": "code",
   "execution_count": null,
   "id": "158a7e3b",
   "metadata": {},
   "outputs": [],
   "source": []
  }
 ],
 "metadata": {
  "kernelspec": {
   "display_name": "Python 3 (ipykernel)",
   "language": "python",
   "name": "python3"
  },
  "language_info": {
   "codemirror_mode": {
    "name": "ipython",
    "version": 3
   },
   "file_extension": ".py",
   "mimetype": "text/x-python",
   "name": "python",
   "nbconvert_exporter": "python",
   "pygments_lexer": "ipython3",
   "version": "3.10.10"
  }
 },
 "nbformat": 4,
 "nbformat_minor": 5
}
